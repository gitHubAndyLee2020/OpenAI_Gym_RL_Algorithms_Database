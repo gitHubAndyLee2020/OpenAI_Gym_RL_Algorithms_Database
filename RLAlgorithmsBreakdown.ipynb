{
  "nbformat": 4,
  "nbformat_minor": 0,
  "metadata": {
    "colab": {
      "provenance": [],
      "authorship_tag": "ABX9TyNs8FBqzdEM58tgyHOPSo8l",
      "include_colab_link": true
    },
    "kernelspec": {
      "name": "python3",
      "display_name": "Python 3"
    },
    "language_info": {
      "name": "python"
    }
  },
  "cells": [
    {
      "cell_type": "markdown",
      "metadata": {
        "id": "view-in-github",
        "colab_type": "text"
      },
      "source": [
        "<a href=\"https://colab.research.google.com/github/gitHubAndyLee2020/OpenAI_Gym_RL_Algorithms_Database/blob/main/RLAlgorithmsBreakdown.ipynb\" target=\"_parent\"><img src=\"https://colab.research.google.com/assets/colab-badge.svg\" alt=\"Open In Colab\"/></a>"
      ]
    },
    {
      "cell_type": "markdown",
      "source": [
        "### DQN\n",
        "\n",
        "```\n",
        "Model: state + each action -> potential reward\n",
        "```\n",
        "\n",
        "### Policy Gradient\n",
        "\n",
        "```\n",
        "Model: state -> probability for each action\n",
        "```\n",
        "\n",
        "### Actor-Critic\n",
        "\n",
        "```\n",
        "Actor: state -> probability for each action, Critic: state => expected reward\n",
        "```\n",
        "\n",
        "### A2C\n",
        "\n",
        "```\n",
        "Actor: state -> probability for each action, Critic: state -> expected reward; Actor-Critic model applied to multiple environments in parallel, and the loss combined during backpropagation\n",
        "```\n",
        "\n",
        "### DDPG\n",
        "\n",
        "```\n",
        "Actor: state -> continuous action; Critic: state, action -> expected reward; Target Critic and Actual Reward used to Train Critic, then Critic used to Train Actor\n",
        "```\n",
        "\n",
        "### PPO\n",
        "\n",
        "```\n",
        "Actor: state -> probability for each action, Critic: state -> expected reward; ratio of probability of selecting an action from updated network and original network is used to control the rate of network update\n",
        "```\n",
        "\n",
        "### SAC\n",
        "\n",
        "```\n",
        "Actor: state -> mean and std for action distribution (continuous action space); Critic: state -> expected reward; Q Network: state + action -> expected reward\n",
        "```\n",
        "```\n",
        "Model Dependency:\n",
        "Target Critic (discounted reward) -> Q Network; Q Network -> Actor; Q Network + Actor -> Critic; Critic (update) -> Critic\n",
        "```\n",
        "\n",
        "### TD3\n",
        "\n",
        "```\n",
        "Actor: state -> action value\n",
        "Q Network: state + action -> expected reward\n",
        "```\n",
        "```\n",
        "Model Dependency:\n",
        "Actor + Target Q Networks (discounted reward) -> Q Networks; Q Network No.1 (delayed for stability) -> Actor; Q Networks (update) -> Target Q Networks\n",
        "```"
      ],
      "metadata": {
        "id": "3KwbkCgHieTf"
      }
    }
  ]
}