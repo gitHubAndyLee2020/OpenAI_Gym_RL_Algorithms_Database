{
  "nbformat": 4,
  "nbformat_minor": 0,
  "metadata": {
    "colab": {
      "provenance": [],
      "authorship_tag": "ABX9TyNERtYpLTeMTv+dtr3QoZc0",
      "include_colab_link": true
    },
    "kernelspec": {
      "name": "python3",
      "display_name": "Python 3"
    },
    "language_info": {
      "name": "python"
    }
  },
  "cells": [
    {
      "cell_type": "markdown",
      "metadata": {
        "id": "view-in-github",
        "colab_type": "text"
      },
      "source": [
        "<a href=\"https://colab.research.google.com/github/gitHubAndyLee2020/OpenAI_Gym_RL_Algorithms_Database/blob/main/RLAlgorithmsBreakdown.ipynb\" target=\"_parent\"><img src=\"https://colab.research.google.com/assets/colab-badge.svg\" alt=\"Open In Colab\"/></a>"
      ]
    },
    {
      "cell_type": "markdown",
      "source": [
        "### DQN\n",
        "\n",
        "```\n",
        "state + each action -> potential reward\n",
        "```\n",
        "\n",
        "### Policy Gradient\n",
        "\n",
        "```\n",
        "state -> probability for each action\n",
        "```\n",
        "\n",
        "### Actor-Critic\n",
        "\n",
        "```\n",
        "state -> probability for each action, expected reward\n",
        "```"
      ],
      "metadata": {
        "id": "3KwbkCgHieTf"
      }
    }
  ]
}