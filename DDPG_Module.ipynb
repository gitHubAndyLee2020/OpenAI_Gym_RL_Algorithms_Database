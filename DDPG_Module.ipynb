{
  "nbformat": 4,
  "nbformat_minor": 0,
  "metadata": {
    "colab": {
      "provenance": [],
      "authorship_tag": "ABX9TyPOg6aFjxutzCHiK1OB4Lnr",
      "include_colab_link": true
    },
    "kernelspec": {
      "name": "python3",
      "display_name": "Python 3"
    },
    "language_info": {
      "name": "python"
    }
  },
  "cells": [
    {
      "cell_type": "markdown",
      "metadata": {
        "id": "view-in-github",
        "colab_type": "text"
      },
      "source": [
        "<a href=\"https://colab.research.google.com/github/gitHubAndyLee2020/OpenAI_Gym_RL_Algorithms_Database/blob/main/DDPG_Module.ipynb\" target=\"_parent\"><img src=\"https://colab.research.google.com/assets/colab-badge.svg\" alt=\"Open In Colab\"/></a>"
      ]
    },
    {
      "cell_type": "markdown",
      "source": [
        "### DDPG\n",
        "\n",
        "> About\n",
        "\n",
        "- Consists of Actor and Critic, where the Actor generates some continuous action for given state, and Critic generates expected reward for some state and action\n",
        "- Target Critic is used to stablish the training of Critic\n",
        "- Critic is first trained using actual reward and future predicted reward using Target Critic as target value, and then the updated Critic is used to train the Actor by judging its performance\n",
        "\n",
        "> Pro\n",
        "\n",
        "- Simplicity and Ease of Implementation\n",
        "\n",
        "> Con\n",
        "\n",
        "- Sample Inefficiency"
      ],
      "metadata": {
        "id": "P-enf0i1RpUs"
      }
    },
    {
      "cell_type": "markdown",
      "source": [
        "```\n",
        "class Replay_buffer():\n",
        "  def __init__(self, max_size=capacity):\n",
        "    - Intialize the storage, maximum size, and pointer to keep track of current index\n",
        "\n",
        "  def push(self, data):\n",
        "    - If the length of the storage as reached the maximum size, start replacing the data from the oldest item in the storage\n",
        "    - Otherwise, append the data to the storage\n",
        "\n",
        "  def sample(self, batch_size):\n",
        "    - Select random batch_size items from the storage and return them\n",
        "```"
      ],
      "metadata": {
        "id": "jK-yxOIWBfw_"
      }
    },
    {
      "cell_type": "markdown",
      "source": [
        "```\n",
        "class Actor(nn.Module):\n",
        "  def __init__(self, state_dim, action_dim, max_action):\n",
        "    - Map state input -> hidden layer -> action probability\n",
        "    - Also stores the maximum value for continuous action in variable self.max_action\n",
        "\n",
        "  def forward(self, x):\n",
        "    - Feed the input through the neural network, and apply tanh to the output of the neural network before multiplying it with self.max_action. Since tanh squeezes values to be between -1 and 1, the range of the forward function output is +-maximum action value\n",
        "```"
      ],
      "metadata": {
        "id": "8jCXRSRrC2-r"
      }
    },
    {
      "cell_type": "markdown",
      "source": [
        "```\n",
        "class Critic(nn.Module):\n",
        "  def __init__(self, state_dim, action_dim):\n",
        "    - Map state input and action -> hidden layer -> expected reward value\n",
        "  \n",
        "  def forward(self, x, u):\n",
        "    - Feed the x: state and u: action through the neural network\n",
        "```"
      ],
      "metadata": {
        "id": "s40jy6L7F_Fa"
      }
    },
    {
      "cell_type": "markdown",
      "source": [
        "```\n",
        "class DDPG(object):\n",
        "  def __init__(self, state_dim, action_dim, max_action):\n",
        "    - Initialize the actor and target actor networks, and copy the weights of actor network to target actor network. Initialize the actor network optimizer\n",
        "    - Initialize the critic and target critic networks, and copy the weights of critic network to target critic network. Initialize the critic network optimizer\n",
        "    - Initialize the replay buffer\n",
        "\n",
        "  def select_action(self, state):\n",
        "    - Feed the state to actor network and get the action value\n",
        "    - Return the action value\n",
        "\n",
        "  def update(self):\n",
        "    - For the specified number of update iterations, run the following update loop\n",
        "    - Update loop is as follows\n",
        "    # Critic network update\n",
        "    - 1. Fetch a sample from the replay buffer and unwrap the state, action,next state, done, reward. These values are tensors of length batch_size\n",
        "    - 2. Compute the target Q value by feeding the state and action to the target critic network. The target Q value is the expected reward given some state and action. Then calculate the final target Q value using formula final target Q = reward + gamma * target Q value. This sets the target Q value that the critic network should aim to hit. The target critic network is used to stabilize training, as it avoids the target Q value from fluctuating alongside current Q value, leading to oscillation\n",
        "    - 3. Compute the current Q value by feeding the state and action to critic network\n",
        "    - 4. Calculate the loss between current Q value and target Q value\n",
        "    - 5. Apply backpropagation to critic network\n",
        "    # Actor network update\n",
        "    - 1. Generate action tensor by feeding state tensor to actor network\n",
        "    - 2. Feed the state tensor and generated action tensor to critic network to get the expected reward tensor\n",
        "    - 3. Get the negated mean of the expected reward tensor to get the Actor loss. This essentially calculates how much reward is expected from the actions chosen by the actor network, where if the expected reward is large, the Actor loss is smaller (due to negation) and requires less adjustment, whereas if the expected reward is small, the Acto is bigger and requires larger adjustment\n",
        "    - 4. Apply backpropagation\n",
        "    - Afterwards, the target networks are partially updated from main networks\n",
        "\n",
        "  def save(self):\n",
        "    - Save the weights of the actor and critic networks\n",
        "\n",
        "  def load(self):\n",
        "    - Load the weights into the actor and critic networks\n",
        "```"
      ],
      "metadata": {
        "id": "9-aLv75THSoT"
      }
    },
    {
      "cell_type": "markdown",
      "source": [
        "```\n",
        "def main():\n",
        "  - If it is test model, run the agent for some number of iterations to get the number of achieved steps for each iteration\n",
        "  - Else if it is train model, for some number of iterations, collect trajectories, which is a tuple of state, next state, action, reward, done, and update the agent\n",
        "```"
      ],
      "metadata": {
        "id": "e8d8mZnoQEsS"
      }
    }
  ]
}